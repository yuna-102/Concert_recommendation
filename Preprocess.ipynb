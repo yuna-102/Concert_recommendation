{
 "cells": [
  {
   "cell_type": "code",
   "execution_count": 3,
   "metadata": {},
   "outputs": [],
   "source": [
    "import pandas as pd\n",
    "import numpy as np\n",
    "import matplotlib.pyplot as plt\n",
    "import seaborn as sns\n",
    "plt.rcParams['font.family'] = 'NanumGothic'\n",
    "import sys\n",
    "import re\n",
    "import random\n",
    "import warnings \n",
    "warnings.filterwarnings('ignore')\n",
    "import statsmodels.api as sm\n",
    "from statsmodels.formula.api import ols\n",
    "from statsmodels.stats.anova import anova_lm\n",
    "from sklearn.linear_model import LinearRegression\n",
    "from sklearn.ensemble import RandomForestClassifier\n",
    "from sklearn.linear_model import LogisticRegression\n",
    "from sklearn.model_selection import train_test_split\n",
    "from sklearn.model_selection import cross_validate\n",
    "from scipy import optimize\n",
    "from scipy.stats import levene\n",
    "from gekko import GEKKO"
   ]
  },
  {
   "cell_type": "markdown",
   "metadata": {},
   "source": [
    "# Preprocess - 문화향수실태조사 설문조사 데이터"
   ]
  },
  {
   "cell_type": "code",
   "execution_count": 4,
   "metadata": {},
   "outputs": [],
   "source": [
    "#survey_2014 = pd.read_spss('data/문화향수실태조사_2014.sav')\n",
    "survey_2016 = pd.read_spss('data/문화향수실태조사_2016.sav')\n",
    "survey_2018 = pd.read_spss('data/문화향수실태조사_2018.sav')\n",
    "survey_2019 = pd.read_spss('data/문화향수실태조사_2019.sav')\n",
    "survey_2019['q22_n8'] = 0"
   ]
  },
  {
   "cell_type": "code",
   "execution_count": 5,
   "metadata": {},
   "outputs": [],
   "source": [
    "code_2016 = pd.read_excel('data/문화향수실태조사_코드북_2016.xlsx', header=2)\n",
    "code_2016.fillna(method='ffill', inplace=True)\n",
    "code_2018 = pd.read_excel('data/문화향수실태조사_코드북_2018.xlsx', header=2)\n",
    "code_2018.fillna(method='ffill', inplace=True)\n",
    "code_2019 = pd.read_excel('data/문화향수실태조사_코드북_2019.xlsx', header=0)\n",
    "code_2019.fillna(method='ffill', inplace=True)"
   ]
  },
  {
   "cell_type": "code",
   "execution_count": 6,
   "metadata": {},
   "outputs": [],
   "source": [
    "def drop_else_list(year: int):\n",
    "    \n",
    "    # match codebook descriptions and dataframe\n",
    "    df = eval('survey_' + str(year)).copy()\n",
    "    code = eval('code_' + str(year)).copy()\n",
    "    drop_list = []\n",
    "    try: vari = code['변수설명']\n",
    "    except:\n",
    "        try: vari = code['설명']\n",
    "        except: vari = code['변수 설명']\n",
    "    \n",
    "    # exclude cultural event which is not performing arts\n",
    "    for i in range(len(code)):\n",
    "\n",
    "        if '영화' in str(vari[i]) or '전시회' in str(vari[i]) or '문학행사' in str(vari[i]) or '역사탐방' in str(vari[i]) or '콘서트' in (str(vari[i])):\n",
    "            if type(code['변수명'][i]) != int:\n",
    "                if year == 2019:\n",
    "                    drop_list.append(code['변수명'][i].lower())\n",
    "                else:\n",
    "                    drop_list.append(code['변수명'][i])\n",
    "    \n",
    "    df.drop(columns=drop_list, inplace=True)\n",
    "    return df"
   ]
  },
  {
   "cell_type": "code",
   "execution_count": 7,
   "metadata": {},
   "outputs": [],
   "source": [
    "df_2016 = drop_else_list(2016)\n",
    "df_2018 = drop_else_list(2018)\n",
    "df_2019 = drop_else_list(2019)"
   ]
  },
  {
   "cell_type": "code",
   "execution_count": 8,
   "metadata": {},
   "outputs": [],
   "source": [
    "def scale_convert(x):\n",
    "    if type(x) == str:\n",
    "    \n",
    "        if x == '매우 불만족 한다' or '①' in x: \n",
    "            x = 1\n",
    "        elif x == '불만족 한다' or '②' in x:\n",
    "            x = 2\n",
    "        elif x == '다소 불만족 한다' or '③' in x:\n",
    "            x = 3\n",
    "        elif x == '보통이다' or '④' in x:\n",
    "            x = 4\n",
    "        elif x == '다소 만족한다' or '⑤' in x:\n",
    "            x = 5\n",
    "        elif x == '만족한다' or '⑥' in x:\n",
    "            x = 6\n",
    "        elif x == '매우 만족한다' or '⑦' in x:\n",
    "            x = 7\n",
    "    return x"
   ]
  },
  {
   "cell_type": "code",
   "execution_count": 9,
   "metadata": {},
   "outputs": [],
   "source": [
    "df_2016 = df_2016.applymap(scale_convert)\n",
    "df_2018 = df_2018.applymap(scale_convert)\n",
    "df_2019 = df_2019.applymap(scale_convert)\n",
    "\n",
    "df_2016['SQ1'] = df_2016['SQ1'].apply(lambda x : x.replace('납', '남'))\n",
    "df_2018['SQ1'] = df_2018['SQ1'].apply(lambda x : re.sub('[특별라상청자치시도]', '', x).replace('광역', ''))\n",
    "df_2018['Q22'] = df_2018['Q22'].apply(lambda x : float(x.replace('세', '')))"
   ]
  },
  {
   "cell_type": "code",
   "execution_count": 10,
   "metadata": {},
   "outputs": [],
   "source": [
    "df_2016.to_csv('data/df_2016.csv')\n",
    "df_2018.to_csv('data/df_2018.csv')\n",
    "df_2019.to_csv('data/df_2019.csv')"
   ]
  },
  {
   "cell_type": "code",
   "execution_count": 161,
   "metadata": {},
   "outputs": [],
   "source": [
    "# how many times have been to certain kind of performance\n",
    "count_western = {2016:'Q1D1', 2018:'Q1C1', 2019:'q1_1_n3'}\n",
    "count_tradition = {2016:'Q1E1', 2018:'Q1D1', 2019:'q1_1_n4'}\n",
    "count_acting = {2016:'Q1F1', 2018:'Q1E1', 2019:'q1_1_n5'}\n",
    "count_musical = {2016:'Q1G1', 2018:'Q1F1', 2019:'q1_1_n6'}\n",
    "count_dancing = {2016:'Q1H1', 2018:'Q1G1', 2019:'q1_1_n7'}\n",
    "\n",
    "# satisfaction score for each performance\n",
    "satisfy_western = {2016:'Q1D2', 2018:'Q1C2', 2019:'q1_2_3'}\n",
    "satisfy_tradition = {2016:'Q1E2', 2018:'Q1D2', 2019:'q1_2_4'}\n",
    "satisfy_acting = {2016:'Q1F2', 2018:'Q1E2', 2019:'q1_2_5'}\n",
    "satisfy_musical = {2016:'Q1G2', 2018:'Q1F2', 2019:'q1_2_6'}\n",
    "satisfy_dancing = {2016:'Q1H2', 2018:'Q1G2', 2019:'q1_2_7'}\n",
    "\n",
    "# demographical variables\n",
    "marriage = {2016:'Q24', 2018:'Q21', 2019:'q24'}\n",
    "age = {2016:'Q22', 2018:'Q22', 2019:'q25'}\n",
    "sex = {2016:'Q21', 2018:'Q25A3', 2019:'q28_3'}\n",
    "location = {2016:'SQ1', 2018:'SQ1', 2019:'DM11'}\n",
    "income = {2016:'Q31A2', 2018:'INC', 2019:'DM8'}\n",
    "edu = {2016:'Q26A1', 2018:'Q25A5', 2019:'q23'}\n",
    "fam = {2016:'Q20', 2018:'MEMBER', 2019:'q27'}\n",
    "\n",
    "# \n",
    "time = {2016: 'Q3A4', 2018:'Q3A4', 2019:'q3_4'}\n",
    "supple = {2016: 'Q3A6A1', 2018:'Q3A6A1', 2019:'q3_6'}\n",
    "standard = {2016: 'Q3A7', 2018: 'Q3A7', 2019:'q3_7'}\n",
    "prob = {2016: 'Q3A8', 2018: 'Q3A8', 2019:'q3_8'}\n",
    "companion = {2016:'Q5A4', 2018:'Q5A4', 2019:'q6_4'}\n",
    "\n",
    "#intend_western = {2016:'Q1D3', 2018:'Q1C3', 2019:'q1_a'}"
   ]
  },
  {
   "cell_type": "code",
   "execution_count": 162,
   "metadata": {},
   "outputs": [],
   "source": [
    "genres = ['western', 'tradition', 'acting', 'musical', 'dancing']\n",
    "list_dep = ['count_western', 'count_tradition', 'count_acting', 'count_musical', 'count_dancing',\n",
    "              'satisfy_western', 'satisfy_tradition', 'satisfy_acting', 'satisfy_musical',\n",
    "              'satisfy_dancing']\n",
    "list_cat_indep = ['time', 'supple', 'standard', 'prob', 'companion']\n",
    "list_indep = ['marriage', 'age', 'sex', 'location', 'income', 'edu', 'fam']"
   ]
  },
  {
   "cell_type": "code",
   "execution_count": 163,
   "metadata": {},
   "outputs": [],
   "source": [
    "def drop_na(lst):\n",
    "    return [i for i in lst if str(i) != 'nan']"
   ]
  },
  {
   "cell_type": "code",
   "execution_count": 164,
   "metadata": {},
   "outputs": [],
   "source": [
    "# concatenate 2016, 2018, 2019 survey data\n",
    "def combine(lst):\n",
    "    \n",
    "    first = True\n",
    "    for col in lst:\n",
    "        col_name = col\n",
    "        col = eval(col)\n",
    "        df1 = df_2016[col[2016]]\n",
    "        df2 = df_2018[col[2018]]\n",
    "        df2 = df2.rename({col[2018]:col[2016]})\n",
    "        df3 = df_2019[col[2019]]\n",
    "        df3 = df3.rename({col[2019]:col[2016]})\n",
    "\n",
    "        #typ = df1[col[2016]].dtype\n",
    "        #df2[col[2016]] = df2[col[2016]].astype(typ)\n",
    "        #df3[col[2016]] = df2[col[2016]].astype(typ)\n",
    "\n",
    "        temp = pd.concat([df1, df2, df3]).reset_index(drop=True)\n",
    "        if first == True: df = pd.DataFrame(temp, columns=[col_name])\n",
    "        else: df[col_name] = temp.values\n",
    "        \n",
    "        first = False\n",
    "        \n",
    "    return df"
   ]
  },
  {
   "cell_type": "code",
   "execution_count": 167,
   "metadata": {},
   "outputs": [],
   "source": [
    "def age_cat(x):\n",
    "    try:\n",
    "        x=int(x)\n",
    "        if x<10: x='less than 10'\n",
    "        elif x<20: x='10s'\n",
    "        elif x<30: x='20s'\n",
    "        elif x<40: x='30s'\n",
    "        elif x<50: x='40s'\n",
    "        elif x<60: x='50s'\n",
    "        elif x<70: x='60s'\n",
    "        elif x<80: x='70s'\n",
    "        else: x='over 80'\n",
    "        return x\n",
    "    except:\n",
    "        return x"
   ]
  },
  {
   "cell_type": "code",
   "execution_count": 165,
   "metadata": {},
   "outputs": [],
   "source": [
    "lst = list_indep + list_cat_indep + list_dep \n",
    "df = combine(lst)"
   ]
  },
  {
   "cell_type": "code",
   "execution_count": 168,
   "metadata": {},
   "outputs": [],
   "source": [
    "# standardize terms\n",
    "df = df.applymap(lambda x : x.lstrip() if type(x) == str else x)\n",
    "df['standard'] = df['standard'].apply(lambda x : x.replace(',네', ', 네').replace(',언', ', 언').replace('(작가, 출연진)', '').replace('즌의', '즌 의').replace('(놀이방 등)', ''))\n",
    "df['prob'] = df['prob'].apply(lambda x : x.replace('심있', '심 있'))\n",
    "df['income'] = df['income'].apply(lambda x: re.sub('[월평균만원\\s이상미만]', '', x).replace('~', '-'))\n",
    "df['edu'] = df['edu'].apply(lambda x: re.sub('[박석사과정]', '', str(x).replace(' ', '')))\n",
    "df['edu'] = df['edu'].apply(lambda x: re.sub('대학원', '대학교(4년제이상)', x))\n",
    "df['edu'] = df['edu'].apply(lambda x: re.sub('학\\(교\\)', '학', x))\n",
    "df['fam'] = df['fam'].apply(lambda x: float(re.sub('[인이상]', '', x)) if type(x)==str else x)\n",
    "df['companion'] = df['companion'].apply(lambda x: re.sub('친구\\(이성친구, 연인\\)', '연인', x) if type(x)==str else x)\n",
    "df['companion'] = df['companion'].apply(lambda x: re.sub('친구\\(동성친구\\)', '친구', x) if type(x)==str else x)\n",
    "df['age'] = df['age'].apply(lambda x : age_cat(x))"
   ]
  },
  {
   "cell_type": "code",
   "execution_count": 180,
   "metadata": {},
   "outputs": [],
   "source": [
    "# make data for regression with genres\n",
    "tmp1 = df[~df['satisfy_western'].isnull()]\n",
    "tmp1['genre'] = 'western'\n",
    "tmp1['satisfaction'] = tmp1['satisfy_western']\n",
    "\n",
    "tmp2 = df[~df['satisfy_tradition'].isnull()]\n",
    "tmp2['genre'] = 'tradition'\n",
    "tmp2['satisfaction'] = tmp1['satisfy_tradition']\n",
    "\n",
    "tmp3 = df[~df['satisfy_acting'].isnull()]\n",
    "tmp3['genre'] = 'acting'\n",
    "tmp3['satisfaction'] = tmp3['satisfy_acting']\n",
    "\n",
    "tmp4 = df[~df['satisfy_musical'].isnull()]\n",
    "tmp4['genre'] = 'musical'\n",
    "tmp4['satisfaction'] = tmp4['satisfy_musical']\n",
    "\n",
    "tmp5 = df[~df['satisfy_dancing'].isnull()]\n",
    "tmp5['genre'] = 'dancing'\n",
    "tmp5['satisfaction'] = tmp5['satisfy_dancing']\n",
    "\n",
    "tmp6 = pd.concat([tmp1, tmp2, tmp3, tmp4, tmp5])\n",
    "tmp6.reset_index(inplace=True, drop=True)\n",
    "tmp6.to_csv('data/data_regression.csv')"
   ]
  },
  {
   "cell_type": "code",
   "execution_count": 169,
   "metadata": {},
   "outputs": [],
   "source": [
    "#df.to_csv('data/data_preprocessed.csv')"
   ]
  },
  {
   "cell_type": "markdown",
   "metadata": {},
   "source": [
    "# Preprocess - 인구총조사 데이터"
   ]
  },
  {
   "cell_type": "code",
   "execution_count": 6,
   "metadata": {},
   "outputs": [],
   "source": [
    "df_pop = pd.read_csv('data/population.csv', encoding='cp949')\n",
    "df_pop['지역'] = 0\n",
    "df_pop.drop(columns=['계'], inplace=True)"
   ]
  },
  {
   "cell_type": "code",
   "execution_count": 9,
   "metadata": {},
   "outputs": [],
   "source": [
    "df_pop['지역'][2:54] = '서울'\n",
    "df_pop['지역'][54:88] = '부산'\n",
    "df_pop['지역'][88:106] = '대구'\n",
    "df_pop['지역'][106:128] = '인천'\n",
    "df_pop['지역'][128:140] = '광주'\n",
    "df_pop['지역'][140:152] = '대전'\n",
    "df_pop['지역'][152:164] = '울산'\n",
    "df_pop['지역'][164:168] = '세종'\n",
    "df_pop['지역'][168:266] = '경기'\n",
    "df_pop['지역'][266:304] = '강원'\n",
    "df_pop['지역'][304:336] = '충북'\n",
    "df_pop['지역'][336:372] = '충남'\n",
    "df_pop['지역'][372:406] = '전북'\n",
    "df_pop['지역'][406:452] = '전남'\n",
    "df_pop['지역'][452:504] = '경북'\n",
    "df_pop['지역'][504:552] = '경남'\n",
    "df_pop['지역'][552:] = '제주'"
   ]
  },
  {
   "cell_type": "code",
   "execution_count": 10,
   "metadata": {},
   "outputs": [],
   "source": [
    "def concat_col(df, n):\n",
    "    return df.iloc[:, n] + df.iloc[:, n+1]"
   ]
  },
  {
   "cell_type": "code",
   "execution_count": 11,
   "metadata": {},
   "outputs": [],
   "source": [
    "# change columns from 5 year standard to 10 year standard\n",
    "total = 0\n",
    "for i in (range(3, 20, 2)):\n",
    "    df_pop.iloc[:, i] = (concat_col(df_pop, i))\n",
    "\n",
    "drop_col = list(df_pop.columns[4:20:2]) + list(df_pop.columns[20:-1])\n",
    "df_pop.drop(columns=drop_col, inplace=True)"
   ]
  },
  {
   "cell_type": "code",
   "execution_count": 13,
   "metadata": {},
   "outputs": [],
   "source": [
    "df_pop.columns = ['시점', '시군구', 'sex', \n",
    "                  'less than 10', '10s', '20s', '30s', '40s', '50s', '60s', '70s', 'over 80',\n",
    "                  '지역']"
   ]
  },
  {
   "cell_type": "code",
   "execution_count": 15,
   "metadata": {},
   "outputs": [],
   "source": [
    "#df_pop.to_csv('data/data_population.csv')"
   ]
  },
  {
   "cell_type": "markdown",
   "metadata": {},
   "source": [
    "# Preprocess - 공연 DB, 공연장 DB"
   ]
  },
  {
   "cell_type": "code",
   "execution_count": null,
   "metadata": {},
   "outputs": [],
   "source": []
  }
 ],
 "metadata": {
  "kernelspec": {
   "display_name": "Python 3",
   "language": "python",
   "name": "python3"
  },
  "language_info": {
   "codemirror_mode": {
    "name": "ipython",
    "version": 3
   },
   "file_extension": ".py",
   "mimetype": "text/x-python",
   "name": "python",
   "nbconvert_exporter": "python",
   "pygments_lexer": "ipython3",
   "version": "3.7.4"
  }
 },
 "nbformat": 4,
 "nbformat_minor": 4
}
